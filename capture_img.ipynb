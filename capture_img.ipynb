{
  "nbformat": 4,
  "nbformat_minor": 0,
  "metadata": {
    "colab": {
      "name": "capture_img.ipynb",
      "provenance": [],
      "collapsed_sections": [],
      "include_colab_link": true
    },
    "kernelspec": {
      "display_name": "Python 3",
      "language": "python",
      "name": "python3"
    },
    "language_info": {
      "codemirror_mode": {
        "name": "ipython",
        "version": 3
      },
      "file_extension": ".py",
      "mimetype": "text/x-python",
      "name": "python",
      "nbconvert_exporter": "python",
      "pygments_lexer": "ipython3",
      "version": "3.8.8"
    },
    "accelerator": "GPU"
  },
  "cells": [
    {
      "cell_type": "markdown",
      "metadata": {
        "id": "view-in-github",
        "colab_type": "text"
      },
      "source": [
        "<a href=\"https://colab.research.google.com/github/MizanMustakim/Deepfake_Detection/blob/main/capture_img.ipynb\" target=\"_parent\"><img src=\"https://colab.research.google.com/assets/colab-badge.svg\" alt=\"Open In Colab\"/></a>"
      ]
    },
    {
      "cell_type": "markdown",
      "metadata": {
        "id": "m_vWZUJq-BhQ"
      },
      "source": [
        "# **Deepfake Detection Using CNN**"
      ]
    },
    {
      "cell_type": "markdown",
      "metadata": {
        "id": "N0VLHj_d-NhS"
      },
      "source": [
        "**Importing all necessary libraries**"
      ]
    },
    {
      "cell_type": "code",
      "metadata": {
        "id": "3cIpNN2aG8Q5"
      },
      "source": [
        "import dlib\n",
        "import cv2\n",
        "import os\n",
        "import json\n",
        "from PIL import Image, ImageChops, ImageEnhance\n",
        "\n",
        "import tensorflow as tf\n",
        "import numpy as np\n",
        "import matplotlib.pyplot as plt\n",
        "import seaborn as sn\n",
        "import pandas as pd\n",
        "from tensorflow.keras.preprocessing.image import ImageDataGenerator, img_to_array, load_img\n",
        "from tensorflow.keras.utils import to_categorical\n",
        "from sklearn.model_selection import train_test_split\n",
        "from sklearn.metrics import confusion_matrix\n",
        "\n",
        "import keras_preprocessing\n",
        "from keras_preprocessing import image\n",
        "import shutil\n",
        "\n",
        "\n",
        "from tensorflow.keras.models import Model"
      ],
      "execution_count": null,
      "outputs": []
    },
    {
      "cell_type": "markdown",
      "metadata": {
        "id": "hK8zklXD-65_"
      },
      "source": [
        "**Mount the drive to colab**"
      ]
    },
    {
      "cell_type": "code",
      "metadata": {
        "colab": {
          "base_uri": "https://localhost:8080/"
        },
        "id": "0y1iClRCJbpJ",
        "outputId": "7da01983-ef10-4468-c0a3-985cd51d365b"
      },
      "source": [
        "from google.colab import drive\n",
        "drive.mount('/content/drive')"
      ],
      "execution_count": null,
      "outputs": [
        {
          "output_type": "stream",
          "text": [
            "Mounted at /content/drive\n"
          ],
          "name": "stdout"
        }
      ]
    },
    {
      "cell_type": "markdown",
      "metadata": {
        "id": "B8EGiij2_Hpv"
      },
      "source": [
        "**Capturing images from the vidoes. Using the metadata, splitting the images into two labels named \"fake\" and \"real\".**"
      ]
    },
    {
      "cell_type": "code",
      "metadata": {
        "id": "MXSRededG8Q6"
      },
      "source": [
        "train_frame_folder = '/content/drive/MyDrive/DATA/dfdc_train_part_05/dfdc_train_part_5'\n",
        "\n",
        "meta_path = \"\"\n",
        "\n",
        "for i in os.listdir(train_frame_folder):\n",
        "    if i.split(\".\")[1] == \"json\":\n",
        "        meta_path = train_frame_folder + \"/\" + i\n",
        "\n",
        "with open(os.path.join(train_frame_folder, meta_path), 'r') as file:\n",
        "    data = json.load(file)\n",
        "list_of_train_data = [f for f in os.listdir(train_frame_folder) if f.endswith('.mp4')]\n",
        "detector = dlib.get_frontal_face_detector()\n",
        "for vid in list_of_train_data:\n",
        "    count = 0\n",
        "    cap = cv2.VideoCapture(os.path.join(train_frame_folder, vid))\n",
        "    frameRate = cap.get(5)\n",
        "    while cap.isOpened():\n",
        "        frameId = cap.get(1)\n",
        "        ret, frame = cap.read()\n",
        "        if ret != True:\n",
        "            break\n",
        "        if frameId % ((int(frameRate)+1)*1) == 0:\n",
        "            face_rects, scores, idx = detector.run(frame, 0)\n",
        "            for i, d in enumerate(face_rects):\n",
        "                x1 = d.left()\n",
        "                y1 = d.top()\n",
        "                x2 = d.right()\n",
        "                y2 = d.bottom()\n",
        "                crop_img = frame[y1:y2, x1:x2]\n",
        "                if data[vid]['label'] == 'REAL':\n",
        "                    cv2.imwrite('/content/drive/MyDrive/DATA/DeepVideos/test_data/real/'+vid.split('.')[0]+'_'+str(count)+'.jpg', frame)\n",
        "                elif data[vid]['label'] == 'FAKE':\n",
        "                    cv2.imwrite('/content/drive/MyDrive/DATA/DeepVideos/test_data/fake/'+vid.split('.')[0]+'_'+str(count)+'.jpg', frame) \n",
        "                    # print(count+1)\n",
        "                count+=1"
      ],
      "execution_count": null,
      "outputs": []
    },
    {
      "cell_type": "markdown",
      "metadata": {
        "id": "GqM3AsLW_p-n"
      },
      "source": [
        "**There are showing two ways to preprocess the data before training.** \n",
        "\n",
        "One way is to convert the images to grayscale, and store them into csv file. And the another way is using ImageDataGenerator library."
      ]
    },
    {
      "cell_type": "markdown",
      "metadata": {
        "id": "e-WGzJ9PBDye"
      },
      "source": [
        "**Gray Scale method**"
      ]
    },
    {
      "cell_type": "code",
      "metadata": {
        "id": "4Xkob9tQ7qTK"
      },
      "source": [
        "input_shape = (28,28, 3)\n",
        "data_dir = '/content/drive/MyDrive/DATA/DeepVideos'\n",
        "\n",
        "real_data = [f for f in os.listdir(data_dir+'/real') if f.endswith('.jpg')]\n",
        "fake_data = [f for f in os.listdir(data_dir+'/fake') if f.endswith('.jpg')]\n",
        "\n",
        "X = []\n",
        "Y = []\n",
        "\n",
        "for img in real_data:\n",
        "    image = Image.open(data_dir+'/real/'+img)\n",
        "    resized_img = image.resize((28,28))\n",
        "    X.append(img_to_array(resized_img).flatten() / 255.0)\n",
        "    # X.append(img_to_array(image).flatten() / 255.0)\n",
        "    Y.append(1)\n",
        "for img in fake_data:\n",
        "    image = Image.open(data_dir+'/fake/'+img)\n",
        "    resized_img = image.resize((28,28))\n",
        "    X.append(img_to_array(resized_img).flatten() / 255.0)\n",
        "    # X.append(img_to_array(image).flatten() / 255.0)\n",
        "    Y.append(0)\n",
        "\n",
        "Y_val_org = Y\n",
        "\n",
        "#Normalization\n",
        "X = np.array(X)\n",
        "Y = to_categorical(Y, 2)\n",
        "\n",
        "#Reshape\n",
        "X = X.reshape(-1, 28, 28, 3)\n",
        "\n",
        "np.savetxt('/content/drive/MyDrive/DATA/DeepVideos/X.csv', X.reshape(3,-1), delimiter=' ')\n",
        "np.savetxt('/content/drive/MyDrive/DATA/DeepVideos/y.csv', Y, delimiter=' ')\n"
      ],
      "execution_count": null,
      "outputs": []
    },
    {
      "cell_type": "code",
      "metadata": {
        "id": "KhhGVSj6ZoIF"
      },
      "source": [
        "X = np.loadtxt(\"/content/drive/MyDrive/DATA/DeepVideos/X.csv\")\n",
        "X=X.reshape(-1,28,28,3)\n",
        "\n",
        "Y = np.loadtxt(\"/content/drive/MyDrive/DATA/DeepVideos/y.csv\")"
      ],
      "execution_count": null,
      "outputs": []
    },
    {
      "cell_type": "markdown",
      "metadata": {
        "id": "J5PeCqZ1DwHW"
      },
      "source": [
        "If we use the above method, then we can split our datasets like this way."
      ]
    },
    {
      "cell_type": "code",
      "metadata": {
        "id": "8sEQfjP-CLrV"
      },
      "source": [
        "#Train-Test split\n",
        "X_train, X_val, Y_train, Y_val = train_test_split(X, Y, test_size = 0.3, random_state=5)"
      ],
      "execution_count": null,
      "outputs": []
    },
    {
      "cell_type": "markdown",
      "metadata": {
        "id": "STy0CCCLBXSP"
      },
      "source": [
        "**Using ImageDataGenerator Library**\n",
        "\n",
        "In this method, we just have to specify the directory path of our data. Then the library will process the images by itself. In addtion, to get a better accuracy I used ***Image Augmentation*** here, so that our model can testify our test data with less loss including more accuracy."
      ]
    },
    {
      "cell_type": "code",
      "metadata": {
        "colab": {
          "base_uri": "https://localhost:8080/"
        },
        "id": "Fw11VVTx3ooU",
        "outputId": "7f74a79c-dccc-484d-feae-6ca63ba4aacf"
      },
      "source": [
        "TRAINING_DIR = \"/content/drive/MyDrive/DATA/DeepVideos/test_data\"\n",
        "training_datagen = ImageDataGenerator(\n",
        "      rescale = 1./255,\n",
        "      rotation_range=40,\n",
        "      width_shift_range=0.2,\n",
        "      height_shift_range=0.2,\n",
        "      shear_range=0.2,\n",
        "      zoom_range=0.2,\n",
        "      horizontal_flip=True)\n",
        "\n",
        "VALIDATION_DIR = \"/content/drive/MyDrive/DATA/DeepVideos/train_Data\"\n",
        "validation_datagen = ImageDataGenerator(rescale = 1./255)\n",
        "\n",
        "train_generator = training_datagen.flow_from_directory(\n",
        "\tTRAINING_DIR,\n",
        "\ttarget_size=(48,48),\n",
        "\tclass_mode='binary',\n",
        "  batch_size= 300\n",
        ")\n",
        "\n",
        "validation_generator = validation_datagen.flow_from_directory(\n",
        "\tVALIDATION_DIR,\n",
        "\ttarget_size=(48,48),\n",
        "\tclass_mode='binary',\n",
        "  batch_size= 300\n",
        ")"
      ],
      "execution_count": null,
      "outputs": [
        {
          "output_type": "stream",
          "text": [
            "Found 17879 images belonging to 2 classes.\n",
            "Found 6333 images belonging to 2 classes.\n"
          ],
          "name": "stdout"
        }
      ]
    },
    {
      "cell_type": "markdown",
      "metadata": {
        "id": "bM-ktxU8CTMu"
      },
      "source": [
        "This method is used to get the label indices after using **ImageDataGenerator**. Here is shown only for training data, similarly we can get for the validation data."
      ]
    },
    {
      "cell_type": "code",
      "metadata": {
        "colab": {
          "base_uri": "https://localhost:8080/"
        },
        "id": "Q4zA4cS13sZv",
        "outputId": "dbefc2ef-2c27-4e94-fd85-f2ac94e26d78"
      },
      "source": [
        "train_generator.class_indices"
      ],
      "execution_count": null,
      "outputs": [
        {
          "output_type": "execute_result",
          "data": {
            "text/plain": [
              "{'fake': 0, 'real': 1}"
            ]
          },
          "metadata": {},
          "execution_count": 3
        }
      ]
    },
    {
      "cell_type": "markdown",
      "metadata": {
        "id": "M57dyKLbC9je"
      },
      "source": [
        "**Another way to split datasets.**\n",
        "\n",
        "The next cell is not necessary all the time. If we have less data, then we can split our data into two sets like this way. One is for training, and the another is for validation."
      ]
    },
    {
      "cell_type": "code",
      "metadata": {
        "id": "32RFmqPz5IBi"
      },
      "source": [
        "root_dir = '/content/drive/MyDrive/DATA/DeepVideos/Data/'\n",
        "classes_dir = ['fake', 'real']\n",
        "\n",
        "test_ratio = 0.20\n",
        "\n",
        "for cls in classes_dir:\n",
        "    os.makedirs(root_dir +'train/' + cls)\n",
        "    os.makedirs(root_dir +'test/' + cls)\n",
        "\n",
        "    src = root_dir + cls\n",
        "\n",
        "    allFileNames = os.listdir(src)\n",
        "    np.random.shuffle(allFileNames)\n",
        "    train_FileNames, test_FileNames = np.split(np.array(allFileNames),\n",
        "                                                              [int(len(allFileNames)* (1 - test_ratio))])\n",
        "\n",
        "\n",
        "    train_FileNames = [src+'/'+ name for name in train_FileNames.tolist()]\n",
        "    test_FileNames = [src+'/' + name for name in test_FileNames.tolist()]\n",
        "\n",
        "    print(\"*****************************\")\n",
        "    print('Total images: ', len(allFileNames))\n",
        "    print('Training: ', len(train_FileNames))\n",
        "    print('Testing: ', len(test_FileNames))\n",
        "    print(\"*****************************\")\n",
        "\n",
        "\n",
        "    for name in train_FileNames:\n",
        "        for i in classes_dir:\n",
        "            shutil.copy(name, root_dir +'train/' + i)\n",
        "\n",
        "    for name in test_FileNames:\n",
        "        for i in classes_dir:\n",
        "            shutil.copy(name, root_dir +'test/' + i)\n",
        "    print(\"Copying Done!\")"
      ],
      "execution_count": null,
      "outputs": []
    },
    {
      "cell_type": "markdown",
      "metadata": {
        "id": "3ymbpRovD9xn"
      },
      "source": [
        "**Building the model.**\n",
        "\n",
        "This model is about the **Convolutional Neural Network** (CNN). Here I used 3 convolutional layers with 3 maxpooling2D layers. Then we flatten the outputs coming from the CNN layers, and feed them into the **Deep Neural Network** (DNN) layers. Our model is working as **Binary Classification** model."
      ]
    },
    {
      "cell_type": "code",
      "metadata": {
        "colab": {
          "base_uri": "https://localhost:8080/"
        },
        "id": "gYR5dmfwonPg",
        "outputId": "c7d14b98-9f12-49fe-8e00-625859b4b62f"
      },
      "source": [
        "model1 = tf.keras.models.Sequential([\n",
        "    # Note the input shape is the desired size of the image 150x150 with 3 bytes color\n",
        "    # This is the first convolution\n",
        "    tf.keras.layers.Conv2D(64, (3,3), activation='relu', input_shape=(48, 48, 3)),\n",
        "    tf.keras.layers.MaxPooling2D(2, 2),\n",
        "    # The second convolution\n",
        "    tf.keras.layers.Conv2D(64, (3,3), activation='relu'),\n",
        "    tf.keras.layers.MaxPooling2D(2,2),\n",
        "    # The third convolution\n",
        "    tf.keras.layers.Conv2D(128, (3,3), activation='relu'),\n",
        "    tf.keras.layers.MaxPooling2D(2,2),\n",
        "    # Flatten the results to feed into a DNN\n",
        "    tf.keras.layers.Flatten(),\n",
        "    # tf.keras.layers.Dropout(0.2),\n",
        "    # 512 neuron hidden layer\n",
        "    tf.keras.layers.Dense(16, activation='relu'),\n",
        "    tf.keras.layers.Dense(1, activation='sigmoid')\n",
        "])\n",
        "\n",
        "\n",
        "model1.summary()"
      ],
      "execution_count": null,
      "outputs": [
        {
          "output_type": "stream",
          "text": [
            "Model: \"sequential_1\"\n",
            "_________________________________________________________________\n",
            "Layer (type)                 Output Shape              Param #   \n",
            "=================================================================\n",
            "conv2d_3 (Conv2D)            (None, 46, 46, 64)        1792      \n",
            "_________________________________________________________________\n",
            "max_pooling2d_3 (MaxPooling2 (None, 23, 23, 64)        0         \n",
            "_________________________________________________________________\n",
            "conv2d_4 (Conv2D)            (None, 21, 21, 64)        36928     \n",
            "_________________________________________________________________\n",
            "max_pooling2d_4 (MaxPooling2 (None, 10, 10, 64)        0         \n",
            "_________________________________________________________________\n",
            "conv2d_5 (Conv2D)            (None, 8, 8, 128)         73856     \n",
            "_________________________________________________________________\n",
            "max_pooling2d_5 (MaxPooling2 (None, 4, 4, 128)         0         \n",
            "_________________________________________________________________\n",
            "flatten_1 (Flatten)          (None, 2048)              0         \n",
            "_________________________________________________________________\n",
            "dense_2 (Dense)              (None, 16)                32784     \n",
            "_________________________________________________________________\n",
            "dense_3 (Dense)              (None, 1)                 17        \n",
            "=================================================================\n",
            "Total params: 145,377\n",
            "Trainable params: 145,377\n",
            "Non-trainable params: 0\n",
            "_________________________________________________________________\n"
          ],
          "name": "stdout"
        }
      ]
    },
    {
      "cell_type": "markdown",
      "metadata": {
        "id": "I3YBBgCzGIXG"
      },
      "source": [
        "Now, compiled the model."
      ]
    },
    {
      "cell_type": "code",
      "metadata": {
        "id": "Vw4_jV3vpkSc"
      },
      "source": [
        "model1.compile(loss='binary_crossentropy',\n",
        "              optimizer = \"adam\",\n",
        "              metrics=['accuracy'])"
      ],
      "execution_count": null,
      "outputs": []
    },
    {
      "cell_type": "markdown",
      "metadata": {
        "id": "-6rVXONZGOda"
      },
      "source": [
        "In this cell, the model will be trained, and will be saved to the drive directory where I want to save.."
      ]
    },
    {
      "cell_type": "code",
      "metadata": {
        "colab": {
          "base_uri": "https://localhost:8080/"
        },
        "id": "JsE7Etxs8T-h",
        "outputId": "28cb8e1c-561e-4b06-f57a-5418f6b8a068"
      },
      "source": [
        "#Currently not used\n",
        "# early_stopping = EarlyStopping(monitor='val_loss',\n",
        "#                                min_delta=0,\n",
        "#                                patience=2,\n",
        "#                                verbose=0, mode='auto')\n",
        "EPOCHS = 5\n",
        "# BATCH_SIZE = 300\n",
        "history = model1.fit(train_generator, epochs = EPOCHS, steps_per_epoch=10, validation_data= validation_generator, verbose = 1)\n",
        "\n",
        "model1.save('/content/drive/MyDrive/DATA/DeepVideos/deepfake-detection-model.h5')"
      ],
      "execution_count": null,
      "outputs": [
        {
          "output_type": "stream",
          "text": [
            "Epoch 1/5\n",
            "10/10 [==============================] - 956s 100s/step - loss: 0.4573 - accuracy: 0.8517 - val_loss: 0.3391 - val_accuracy: 0.9195\n",
            "Epoch 2/5\n",
            "10/10 [==============================] - 574s 60s/step - loss: 0.4115 - accuracy: 0.8480 - val_loss: 0.3241 - val_accuracy: 0.9195\n",
            "Epoch 3/5\n",
            "10/10 [==============================] - 542s 57s/step - loss: 0.3817 - accuracy: 0.8647 - val_loss: 0.3641 - val_accuracy: 0.9195\n",
            "Epoch 4/5\n",
            "10/10 [==============================] - 556s 58s/step - loss: 0.3972 - accuracy: 0.8437 - val_loss: 0.3729 - val_accuracy: 0.9195\n",
            "Epoch 5/5\n",
            "10/10 [==============================] - 551s 57s/step - loss: 0.3596 - accuracy: 0.8547 - val_loss: 0.3936 - val_accuracy: 0.9195\n"
          ],
          "name": "stdout"
        }
      ]
    },
    {
      "cell_type": "markdown",
      "metadata": {
        "id": "SblmYdeCHo24"
      },
      "source": [
        "Now, we will visualize the accuray and the loss value on the training data and the validation data what we got during the training."
      ]
    },
    {
      "cell_type": "code",
      "metadata": {
        "id": "YyfHI8y58cy9",
        "colab": {
          "base_uri": "https://localhost:8080/",
          "height": 300
        },
        "outputId": "58ede740-1d81-4ff8-ab44-13027e4b6516"
      },
      "source": [
        "f, (ax1, ax2) = plt.subplots(1, 2, figsize=(20, 4))\n",
        "t = f.suptitle('CNN training with Fine-Tuning & Image Augmentation Performance ', fontsize=12)\n",
        "f.subplots_adjust(top=0.85, wspace=0.3)\n",
        "\n",
        "epoch_list = list(range(1,EPOCHS+1))\n",
        "ax1.plot(epoch_list, history.history['accuracy'], label='Train Accuracy')\n",
        "ax1.plot(epoch_list, history.history['val_accuracy'], label='Validation Accuracy')\n",
        "ax1.set_xticks(np.arange(0, EPOCHS+1, 1))\n",
        "ax1.set_ylabel('Accuracy Value')\n",
        "ax1.set_xlabel('Epoch #')\n",
        "ax1.set_title('Accuracy')\n",
        "l1 = ax1.legend(loc=\"best\")\n",
        "\n",
        "ax2.plot(epoch_list, history.history['loss'], label='Train Loss')\n",
        "ax2.plot(epoch_list, history.history['val_loss'], label='Validation Loss')\n",
        "ax2.set_xticks(np.arange(0, EPOCHS+1, 1))\n",
        "ax2.set_ylabel('Loss Value')\n",
        "ax2.set_xlabel('Epoch #')\n",
        "ax2.set_title('Loss')\n",
        "l2 = ax2.legend(loc=\"best\")\n"
      ],
      "execution_count": null,
      "outputs": [
        {
          "output_type": "display_data",
          "data": {
            "image/png": "[encoded data removed]",
            "text/plain": [
              "<Figure size 1440x288 with 2 Axes>"
            ]
          },
          "metadata": {
            "needs_background": "light"
          }
        }
      ]
    },
    {
      "cell_type": "markdown",
      "metadata": {
        "id": "PGRneFzuGxv-"
      },
      "source": [
        "**Loading the saved model**\n",
        "\n",
        "Now, just to testify we will load our previously saved model, and make prediction on the test data. In addition, after getting the predicted values we will produce a **confusion matrix**."
      ]
    },
    {
      "cell_type": "code",
      "metadata": {
        "id": "RzKQ0Y8mb2sO"
      },
      "source": [
        "model_load = tf.keras.models.load_model(\"/content/drive/MyDrive/DATA/DeepVideos/deepfake-detection-model.h5\")"
      ],
      "execution_count": null,
      "outputs": []
    },
    {
      "cell_type": "code",
      "metadata": {
        "colab": {
          "base_uri": "https://localhost:8080/",
          "height": 403
        },
        "id": "fwUdgQVF3ver",
        "outputId": "048672c4-d866-43be-f71d-21e9db647f2e"
      },
      "source": [
        "#Output confusion matrix\n",
        "def print_confusion_matrix(y_true, y_pred):\n",
        "    cm = confusion_matrix(y_true, y_pred)\n",
        "    print('True positive = ', cm[0][0])\n",
        "    print('False positive = ', cm[0][1])\n",
        "    print('False negative = ', cm[1][0])\n",
        "    print('True negative = ', cm[1][1])\n",
        "    print('\\n')\n",
        "    df_cm = pd.DataFrame(cm, range(2), range(2))\n",
        "    sn.set(font_scale=1.4) # for label size\n",
        "    sn.heatmap(df_cm, annot=True, annot_kws={\"size\": 16}) # font size\n",
        "    plt.ylabel('Actual label', size = 20)\n",
        "    plt.xlabel('Predicted label', size = 20)\n",
        "    plt.xticks(np.arange(2), ['Fake', 'Real'], size = 16)\n",
        "    plt.yticks(np.arange(2), ['Fake', 'Real'], size = 16)\n",
        "    plt.ylim([2, 0])\n",
        "    plt.show()\n",
        "\n",
        "\n",
        "imag_pred = []\n",
        "y = []\n",
        "\n",
        "for fn in os.listdir(\"/content/drive/MyDrive/DATA/DeepVideos/train_Data\"):\n",
        "  # predicting images\n",
        "  for i in os.listdir(\"/content/drive/MyDrive/DATA/DeepVideos/train_Data/\" + fn):\n",
        "    if fn == \"fake\":\n",
        "      y.append(0)\n",
        "    elif fn == \"real\":\n",
        "      y.append(1)\n",
        "    path = \"/content/drive/MyDrive/DATA/DeepVideos/train_Data/\" + fn + \"/\" + i\n",
        "    img = image.load_img(path, target_size=(48,48))\n",
        "    x = image.img_to_array(img)\n",
        "    x = np.expand_dims(x, axis=0)\n",
        "\n",
        "    images = np.vstack([x])\n",
        "    \n",
        "    imag_pred.append(round(model_load.predict(images)[0][0]))\n",
        "\n",
        "    \n",
        "print_confusion_matrix(y, imag_pred)"
      ],
      "execution_count": null,
      "outputs": [
        {
          "output_type": "stream",
          "text": [
            "True positive =  5823\n",
            "False positive =  0\n",
            "False negative =  510\n",
            "True negative =  0\n",
            "\n",
            "\n"
          ],
          "name": "stdout"
        },
        {
          "output_type": "display_data",
          "data": {
            "image/png": "[encoded data removed]",
            "text/plain": [
              "<Figure size 432x288 with 2 Axes>"
            ]
          },
          "metadata": {}
        }
      ]
    },
    {
      "cell_type": "code",
      "metadata": {
        "id": "ahn38CW-3vj4"
      },
      "source": [
        ""
      ],
      "execution_count": null,
      "outputs": []
    }
  ]
}